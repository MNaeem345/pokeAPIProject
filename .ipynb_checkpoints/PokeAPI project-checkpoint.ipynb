{
 "cells": [
  {
   "cell_type": "code",
   "execution_count": 2,
   "id": "0fa84310",
   "metadata": {},
   "outputs": [],
   "source": [
    "POKEMON API\n",
    "Retrieve a list of Pokemon's name, abilities, types, and weight from the PokeAPI\n",
    " https://pokeapi.co/\n",
    "\n",
    "Make 20 Pokemon\n",
    "\n",
    "Whenever you need to create a POKEMON, you need to construct your Pokemon through data from the API: https://pokeapi.co/\n",
    "\n",
    "Below is an example of how your Pokemon should be categorized: by Type.\n",
    "Create a dictionary\n",
    "{\n",
    "'Fire': {\n",
    "'charizard': {\n",
    "'abilities': [],\n",
    "'weight': ,\n",
    "},\n",
    "'pokemon': {\n",
    "'abilities': [],\n",
    "'weight': ,\n",
    "}\n",
    "},\n",
    "'Flying':,\n",
    "'Water':\n",
    "}\n",
    "\n",
    "When you're done, create a GitHub repository for your assignment and save the repository link as the assignment."
   ]
  },
  {
   "cell_type": "code",
   "execution_count": 9,
   "id": "f7526f59",
   "metadata": {},
   "outputs": [
    {
     "name": "stdout",
     "output_type": "stream",
     "text": [
      "{'name': 'charmander', 'types': ['fire'], 'abilities': ['blaze', 'solar-power'], 'weight': 85}\n"
     ]
    }
   ],
   "source": [
    "def pokiAPI(pokemon):\n",
    "    import requests as r\n",
    "    req = r.get(f'https://pokeapi.co/api/v2/pokemon/{pokemon}')\n",
    "    if req.status_code == 200:\n",
    "        data = req.json()\n",
    "    else:\n",
    "        return req.status_code\n",
    "\n",
    "    pokedict = {\n",
    "        'name': data['name'],\n",
    "        'types':[x['type']['name']for x in data['types']],\n",
    "        'abilities':[x['ability']['name']for x in data['abilities']],\n",
    "        'weight': data['weight']\n",
    "    }\n",
    "    return pokedict\n",
    "charmander = pokiAPI('charmander')\n",
    "print(charmander)"
   ]
  },
  {
   "cell_type": "code",
   "execution_count": 10,
   "id": "13a4f1a1",
   "metadata": {},
   "outputs": [
    {
     "data": {
      "text/plain": [
       "[{'name': 'charizard',\n",
       "  'types': ['fire', 'flying'],\n",
       "  'abilities': ['blaze', 'solar-power'],\n",
       "  'weight': 905},\n",
       " {'name': 'bulbasaur',\n",
       "  'types': ['grass', 'poison'],\n",
       "  'abilities': ['overgrow', 'chlorophyll'],\n",
       "  'weight': 69},\n",
       " 404,\n",
       " {'name': 'gastly',\n",
       "  'types': ['ghost', 'poison'],\n",
       "  'abilities': ['levitate'],\n",
       "  'weight': 1},\n",
       " {'name': 'gengar',\n",
       "  'types': ['ghost', 'poison'],\n",
       "  'abilities': ['cursed-body'],\n",
       "  'weight': 405},\n",
       " {'name': 'onix',\n",
       "  'types': ['rock', 'ground'],\n",
       "  'abilities': ['rock-head', 'sturdy', 'weak-armor'],\n",
       "  'weight': 2100},\n",
       " {'name': 'lapras',\n",
       "  'types': ['water', 'ice'],\n",
       "  'abilities': ['water-absorb', 'shell-armor', 'hydration'],\n",
       "  'weight': 2200},\n",
       " {'name': 'eevee',\n",
       "  'types': ['normal'],\n",
       "  'abilities': ['run-away', 'adaptability', 'anticipation'],\n",
       "  'weight': 65},\n",
       " {'name': 'jolteon',\n",
       "  'types': ['electric'],\n",
       "  'abilities': ['volt-absorb', 'quick-feet'],\n",
       "  'weight': 245},\n",
       " {'name': 'porygon',\n",
       "  'types': ['normal'],\n",
       "  'abilities': ['trace', 'download', 'analytic'],\n",
       "  'weight': 365},\n",
       " {'name': 'omanyte',\n",
       "  'types': ['rock', 'water'],\n",
       "  'abilities': ['swift-swim', 'shell-armor', 'weak-armor'],\n",
       "  'weight': 75},\n",
       " {'name': 'kabuto',\n",
       "  'types': ['rock', 'water'],\n",
       "  'abilities': ['swift-swim', 'battle-armor', 'weak-armor'],\n",
       "  'weight': 115}]"
      ]
     },
     "execution_count": 10,
     "metadata": {},
     "output_type": "execute_result"
    }
   ],
   "source": [
    "pokemon = ['charizard','bulbasaur','lvysaur','gastly','gengar','onix','lapras','eevee','jolteon','porygon','omanyte','kabuto']\n",
    "\n",
    "pokilist = []\n",
    "for name in pokemon:\n",
    "    pokilist.append(pokiAPI(name))\n",
    "pokilist = [pokiAPI(name) for name in pokemon]\n",
    "pokilist"
   ]
  },
  {
   "cell_type": "code",
   "execution_count": null,
   "id": "b5588bfe",
   "metadata": {},
   "outputs": [],
   "source": []
  }
 ],
 "metadata": {
  "kernelspec": {
   "display_name": "Python 3",
   "language": "python",
   "name": "python3"
  },
  "language_info": {
   "codemirror_mode": {
    "name": "ipython",
    "version": 3
   },
   "file_extension": ".py",
   "mimetype": "text/x-python",
   "name": "python",
   "nbconvert_exporter": "python",
   "pygments_lexer": "ipython3",
   "version": "3.8.8"
  }
 },
 "nbformat": 4,
 "nbformat_minor": 5
}
