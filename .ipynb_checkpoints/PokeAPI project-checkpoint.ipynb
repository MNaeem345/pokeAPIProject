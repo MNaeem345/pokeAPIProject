{
 "cells": [
  {
   "cell_type": "code",
   "execution_count": 4,
   "id": "0fa84310",
   "metadata": {},
   "outputs": [
    {
     "ename": "SyntaxError",
     "evalue": "invalid syntax (<ipython-input-4-3effe3684bc8>, line 1)",
     "output_type": "error",
     "traceback": [
      "\u001b[1;36m  File \u001b[1;32m\"<ipython-input-4-3effe3684bc8>\"\u001b[1;36m, line \u001b[1;32m1\u001b[0m\n\u001b[1;33m    POKEMON API\u001b[0m\n\u001b[1;37m            ^\u001b[0m\n\u001b[1;31mSyntaxError\u001b[0m\u001b[1;31m:\u001b[0m invalid syntax\n"
     ]
    }
   ],
   "source": [
    "POKEMON API\n",
    "Retrieve a list of Pokemon's name, abilities, types, and weight from the PokeAPI\n",
    " https://pokeapi.co/\n",
    "\n",
    "Make 20 Pokemon\n",
    "\n",
    "Whenever you need to create a POKEMON, you need to construct your Pokemon through data from the API: https://pokeapi.co/\n",
    "\n",
    "Below is an example of how your Pokemon should be categorized: by Type.\n",
    "Create a dictionary\n",
    "{\n",
    "'Fire': {\n",
    "'charizard': {\n",
    "'abilities': [],\n",
    "'weight': ,\n",
    "},\n",
    "'pokemon': {\n",
    "'abilities': [],\n",
    "'weight': ,\n",
    "}\n",
    "},\n",
    "'Flying':,\n",
    "'Water':\n",
    "}\n",
    "\n",
    "When you're done, create a GitHub repository for your assignment and save the repository link as the assignment."
   ]
  },
  {
   "cell_type": "code",
   "execution_count": null,
   "id": "f7526f59",
   "metadata": {},
   "outputs": [
    {
     "name": "stdout",
     "output_type": "stream",
     "text": [
      "What pokemon would you like to enter?pikachu\n",
      "('pikachu', 'pikachu', ['electric'], ['static', 'lightning-rod'], 60)\n",
      "What pokemon would you like to enter?charmander\n",
      "('charmander', 'charmander', ['fire'], ['blaze', 'solar-power'], 85)\n",
      "What pokemon would you like to enter?kabuto\n",
      "('kabuto', 'kabuto', ['rock', 'water'], ['swift-swim', 'battle-armor', 'weak-armor'], 115)\n"
     ]
    }
   ],
   "source": [
    "def pokiAPI():\n",
    "    pokiCART = {}\n",
    "    while True:\n",
    "        pokemon = input('What pokemon would you like to enter?')\n",
    "        import requests as r\n",
    "        req = r.get(f'https://pokeapi.co/api/v2/pokemon/{pokemon}')\n",
    "        if req.status_code == 200:\n",
    "            data = req.json()\n",
    "            name = data['name']\n",
    "            types =[x['type']['name']for x in data['types']]\n",
    "            abilities = [x['ability']['name']for x in data['abilities']]\n",
    "            weight = data['weight']\n",
    "            \n",
    "        else:\n",
    "            return req.status_code\n",
    "            \n",
    "        pokiCART = (pokemon),(name),(types),(abilities),(weight)\n",
    "        for p in pokiCART:\n",
    "            print(pokiCART)\n",
    "            break\n",
    "    \n",
    "pokiAPI()\n"
   ]
  },
  {
   "cell_type": "code",
   "execution_count": null,
   "id": "13a4f1a1",
   "metadata": {},
   "outputs": [],
   "source": []
  },
  {
   "cell_type": "code",
   "execution_count": null,
   "id": "b5588bfe",
   "metadata": {},
   "outputs": [],
   "source": []
  }
 ],
 "metadata": {
  "kernelspec": {
   "display_name": "Python 3",
   "language": "python",
   "name": "python3"
  },
  "language_info": {
   "codemirror_mode": {
    "name": "ipython",
    "version": 3
   },
   "file_extension": ".py",
   "mimetype": "text/x-python",
   "name": "python",
   "nbconvert_exporter": "python",
   "pygments_lexer": "ipython3",
   "version": "3.8.8"
  }
 },
 "nbformat": 4,
 "nbformat_minor": 5
}
